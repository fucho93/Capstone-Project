{
 "cells": [
  {
   "cell_type": "markdown",
   "metadata": {},
   "source": [
    "# Capstone Project"
   ]
  },
  {
   "cell_type": "markdown",
   "metadata": {},
   "source": [
    "## Introduction/Business Problem"
   ]
  },
  {
   "cell_type": "markdown",
   "metadata": {},
   "source": [
    "####     Buenos Aires is the capital of Argentina and one of the best city to live in Latin America , it has a population of at least 2.89 million people spread in 48 neighborhoods and 13 communes, in this project we will study Buenos Aires because i've the intention of moving over the in this year.\n",
    "         \n",
    "####     To move over there, first we will do an analysis  based on the cost of rent and if the area is considered safe or not, here we look for the minimum cost of rent having  the lowest crime rate possible, this is very difficult due to safe areas are expensive and their is a budget to consider.Another aspect to keep in mind is the amount of jobs sources close to the neighborhood and the ease to move around the city.\n",
    "\n",
    "####     A preselection will be done just based on crime rate and rent price (Cluster Analysis), then of the remaining neighborhoods we seek the ones with the most job offers and transportation methods."
   ]
  },
  {
   "cell_type": "markdown",
   "metadata": {},
   "source": [
    "## Data "
   ]
  },
  {
   "cell_type": "markdown",
   "metadata": {},
   "source": [
    "### Data Description"
   ]
  },
  {
   "cell_type": "markdown",
   "metadata": {},
   "source": [
    "#### For the Map the of the neighborhoods of Buenos Aires we used the geojson data provided by the portal of the mayoralty of Buenos Aires data(https://data.buenosaires.gob.ar/dataset/barrios), the rest of the data was also extract from this portal:\n",
    "\n",
    "#### * Rent (https://www.estadisticaciudad.gob.ar/eyc/?p=62993)\n",
    "\n",
    "#### * Crimes (https://e-8ef01e7270.cognitiveclass.ai/download/data/delitos.csv), to handle missing data, we seek                  alternative in real state web pages. \n",
    "\n"
   ]
  },
  {
   "cell_type": "code",
   "execution_count": null,
   "metadata": {},
   "outputs": [],
   "source": []
  }
 ],
 "metadata": {
  "kernelspec": {
   "display_name": "Python 3",
   "language": "python",
   "name": "python3"
  },
  "language_info": {
   "codemirror_mode": {
    "name": "ipython",
    "version": 3
   },
   "file_extension": ".py",
   "mimetype": "text/x-python",
   "name": "python",
   "nbconvert_exporter": "python",
   "pygments_lexer": "ipython3",
   "version": "3.6.8"
  }
 },
 "nbformat": 4,
 "nbformat_minor": 2
}
