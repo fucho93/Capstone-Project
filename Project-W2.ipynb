{
 "cells": [
  {
   "cell_type": "markdown",
   "metadata": {},
   "source": [
    "# Capstone Project"
   ]
  },
  {
   "cell_type": "markdown",
   "metadata": {},
   "source": [
    "## Introduction/Business Problem"
   ]
  },
  {
   "cell_type": "markdown",
   "metadata": {},
   "source": [
    "#####     Buenos Aires is the capital of Argentina and one of the best city to live in Latin America , it has a population of at least 2.89 million people spread in 48 neighborhoods and 13 communes, in this project we will study Buenos Aires because i've the intention of moving over the in this year.\n",
    "         \n",
    "#####     To move over there, first we will do an analysis  based on the cost of rent and if the area is considered safe or not, here we look for the minimum cost of rent having  the lowest crime rate possible, this is very difficult due to safe areas are expensive and their is a budget to consider.Another aspect to keep in mind is the amount of jobs sources close to the neighborhood and the ease to move around the city.\n",
    "\n",
    "#####    A preselection will be done just based on crime rate and rent price (Cluster Analysis), then of the remaining neighborhoods we seek the ones with the most job offers and transportation methods."
   ]
  },
  {
   "cell_type": "markdown",
   "metadata": {},
   "source": [
    "## Data "
   ]
  },
  {
   "cell_type": "markdown",
   "metadata": {},
   "source": [
    "### Data Description"
   ]
  },
  {
   "cell_type": "markdown",
   "metadata": {},
   "source": [
    "#### For the Map the of the neighborhoods of Buenos Aires we used the geojson data provided by the portal of the mayoralty of Buenos Aires data(https://data.buenosaires.gob.ar/dataset/barrios), the rest of the data was also extract from this portal:\n",
    "\n",
    "#### * Rent (https://www.estadisticaciudad.gob.ar/eyc/?p=62993)\n",
    "\n",
    "#### * Crimes (https://e-8ef01e7270.cognitiveclass.ai/download/data/delitos.csv), to handle missing data, we seek                  alternative in real state web pages. \n"
   ]
  },
  {
   "cell_type": "markdown",
   "metadata": {},
   "source": [
    "## Methodology"
   ]
  },
  {
   "cell_type": "code",
   "execution_count": 3,
   "metadata": {
    "tags": [
     "{",
     "\"tags\":",
     "[",
     "\"hidecode\"",
     "]",
     "}"
    ]
   },
   "outputs": [
    {
     "name": "stderr",
     "output_type": "stream",
     "text": [
      "usage: conda-script.py [-h] [-V] command ...\n",
      "conda-script.py: error: unrecognized arguments: # uncomment this line if you haven't completed the Foursquare API lab\n",
      "usage: conda-script.py [-h] [-V] command ...\n",
      "conda-script.py: error: unrecognized arguments: # uncomment this line if you haven't completed the Foursquare API lab\n"
     ]
    },
    {
     "name": "stdout",
     "output_type": "stream",
     "text": [
      "^C\n",
      "Bokeh ready!\n",
      "Libraries imported.\n"
     ]
    }
   ],
   "source": [
    "import numpy as np # library to handle data in a vectorized manner\n",
    "\n",
    "import pandas as pd # library for data analsysis\n",
    "pd.set_option('display.max_columns', None)\n",
    "pd.set_option('display.max_rows', None)\n",
    "\n",
    "import json # library to handle JSON files\n",
    "\n",
    "!conda install -c conda-forge geopy --yes # uncomment this line if you haven't completed the Foursquare API lab\n",
    "from geopy.geocoders import Nominatim # convert an address into latitude and longitude values\n",
    "\n",
    "import requests # library to handle requests\n",
    "from pandas.io.json import json_normalize # tranform JSON file into a pandas dataframe\n",
    "\n",
    "# Matplotlib and associated plotting modules\n",
    "import matplotlib.cm as cm\n",
    "import matplotlib.colors as colors\n",
    "import matplotlib.pyplot as plt\n",
    "# import k-means from clustering stage\n",
    "from sklearn.cluster import KMeans\n",
    "\n",
    "!conda install -c conda-forge folium=0.5.0 --yes # uncomment this line if you haven't completed the Foursquare API lab\n",
    "import folium # map rendering library\n",
    "\n",
    "!conda install bokeh --yes\n",
    "print(\"Bokeh ready!\")\n",
    "from bokeh.plotting import figure\n",
    "from bokeh.io import output_file, show,output_notebook\n",
    "from bokeh.plotting import ColumnDataSource\n",
    "from bokeh.models import HoverTool\n",
    "\n",
    "\n",
    "\n",
    "\n",
    "import seaborn as sns\n",
    "print('Libraries imported.')\n"
   ]
  },
  {
   "cell_type": "markdown",
   "metadata": {},
   "source": [
    "## Import Datasets"
   ]
  },
  {
   "cell_type": "code",
   "execution_count": 2,
   "metadata": {
    "tags": [
     "{",
     "\"tags\":",
     "[",
     "\"hidecode\"",
     "]",
     "}"
    ]
   },
   "outputs": [
    {
     "ename": "FileNotFoundError",
     "evalue": "[Errno 2] No such file or directory: '/resources/data/barrios1.xlsx'",
     "output_type": "error",
     "traceback": [
      "\u001b[1;31m---------------------------------------------------------------------------\u001b[0m",
      "\u001b[1;31mFileNotFoundError\u001b[0m                         Traceback (most recent call last)",
      "\u001b[1;32m<ipython-input-2-2a4cf1b8194e>\u001b[0m in \u001b[0;36m<module>\u001b[1;34m\u001b[0m\n\u001b[1;32m----> 1\u001b[1;33m \u001b[0mdf\u001b[0m \u001b[1;33m=\u001b[0m \u001b[0mpd\u001b[0m\u001b[1;33m.\u001b[0m\u001b[0mread_excel\u001b[0m\u001b[1;33m(\u001b[0m\u001b[1;34m\"/resources/data/barrios1.xlsx\"\u001b[0m\u001b[1;33m)\u001b[0m\u001b[1;31m# import the Neighbourhood dataset\u001b[0m\u001b[1;33m\u001b[0m\u001b[1;33m\u001b[0m\u001b[0m\n\u001b[0m\u001b[0;32m      2\u001b[0m \u001b[0mcrime\u001b[0m \u001b[1;33m=\u001b[0m \u001b[0mpd\u001b[0m\u001b[1;33m.\u001b[0m\u001b[0mread_csv\u001b[0m\u001b[1;33m(\u001b[0m\u001b[1;34m\"/resources/data/delitos.csv\"\u001b[0m\u001b[1;33m)\u001b[0m \u001b[1;31m# crime dataset\u001b[0m\u001b[1;33m\u001b[0m\u001b[1;33m\u001b[0m\u001b[0m\n\u001b[0;32m      3\u001b[0m \u001b[1;33m\u001b[0m\u001b[0m\n",
      "\u001b[1;32m~\\Anaconda3\\lib\\site-packages\\pandas\\util\\_decorators.py\u001b[0m in \u001b[0;36mwrapper\u001b[1;34m(*args, **kwargs)\u001b[0m\n\u001b[0;32m    176\u001b[0m                 \u001b[1;32melse\u001b[0m\u001b[1;33m:\u001b[0m\u001b[1;33m\u001b[0m\u001b[1;33m\u001b[0m\u001b[0m\n\u001b[0;32m    177\u001b[0m                     \u001b[0mkwargs\u001b[0m\u001b[1;33m[\u001b[0m\u001b[0mnew_arg_name\u001b[0m\u001b[1;33m]\u001b[0m \u001b[1;33m=\u001b[0m \u001b[0mnew_arg_value\u001b[0m\u001b[1;33m\u001b[0m\u001b[1;33m\u001b[0m\u001b[0m\n\u001b[1;32m--> 178\u001b[1;33m             \u001b[1;32mreturn\u001b[0m \u001b[0mfunc\u001b[0m\u001b[1;33m(\u001b[0m\u001b[1;33m*\u001b[0m\u001b[0margs\u001b[0m\u001b[1;33m,\u001b[0m \u001b[1;33m**\u001b[0m\u001b[0mkwargs\u001b[0m\u001b[1;33m)\u001b[0m\u001b[1;33m\u001b[0m\u001b[1;33m\u001b[0m\u001b[0m\n\u001b[0m\u001b[0;32m    179\u001b[0m         \u001b[1;32mreturn\u001b[0m \u001b[0mwrapper\u001b[0m\u001b[1;33m\u001b[0m\u001b[1;33m\u001b[0m\u001b[0m\n\u001b[0;32m    180\u001b[0m     \u001b[1;32mreturn\u001b[0m \u001b[0m_deprecate_kwarg\u001b[0m\u001b[1;33m\u001b[0m\u001b[1;33m\u001b[0m\u001b[0m\n",
      "\u001b[1;32m~\\Anaconda3\\lib\\site-packages\\pandas\\util\\_decorators.py\u001b[0m in \u001b[0;36mwrapper\u001b[1;34m(*args, **kwargs)\u001b[0m\n\u001b[0;32m    176\u001b[0m                 \u001b[1;32melse\u001b[0m\u001b[1;33m:\u001b[0m\u001b[1;33m\u001b[0m\u001b[1;33m\u001b[0m\u001b[0m\n\u001b[0;32m    177\u001b[0m                     \u001b[0mkwargs\u001b[0m\u001b[1;33m[\u001b[0m\u001b[0mnew_arg_name\u001b[0m\u001b[1;33m]\u001b[0m \u001b[1;33m=\u001b[0m \u001b[0mnew_arg_value\u001b[0m\u001b[1;33m\u001b[0m\u001b[1;33m\u001b[0m\u001b[0m\n\u001b[1;32m--> 178\u001b[1;33m             \u001b[1;32mreturn\u001b[0m \u001b[0mfunc\u001b[0m\u001b[1;33m(\u001b[0m\u001b[1;33m*\u001b[0m\u001b[0margs\u001b[0m\u001b[1;33m,\u001b[0m \u001b[1;33m**\u001b[0m\u001b[0mkwargs\u001b[0m\u001b[1;33m)\u001b[0m\u001b[1;33m\u001b[0m\u001b[1;33m\u001b[0m\u001b[0m\n\u001b[0m\u001b[0;32m    179\u001b[0m         \u001b[1;32mreturn\u001b[0m \u001b[0mwrapper\u001b[0m\u001b[1;33m\u001b[0m\u001b[1;33m\u001b[0m\u001b[0m\n\u001b[0;32m    180\u001b[0m     \u001b[1;32mreturn\u001b[0m \u001b[0m_deprecate_kwarg\u001b[0m\u001b[1;33m\u001b[0m\u001b[1;33m\u001b[0m\u001b[0m\n",
      "\u001b[1;32m~\\Anaconda3\\lib\\site-packages\\pandas\\io\\excel.py\u001b[0m in \u001b[0;36mread_excel\u001b[1;34m(io, sheet_name, header, names, index_col, usecols, squeeze, dtype, engine, converters, true_values, false_values, skiprows, nrows, na_values, parse_dates, date_parser, thousands, comment, skipfooter, convert_float, **kwds)\u001b[0m\n\u001b[0;32m    305\u001b[0m \u001b[1;33m\u001b[0m\u001b[0m\n\u001b[0;32m    306\u001b[0m     \u001b[1;32mif\u001b[0m \u001b[1;32mnot\u001b[0m \u001b[0misinstance\u001b[0m\u001b[1;33m(\u001b[0m\u001b[0mio\u001b[0m\u001b[1;33m,\u001b[0m \u001b[0mExcelFile\u001b[0m\u001b[1;33m)\u001b[0m\u001b[1;33m:\u001b[0m\u001b[1;33m\u001b[0m\u001b[1;33m\u001b[0m\u001b[0m\n\u001b[1;32m--> 307\u001b[1;33m         \u001b[0mio\u001b[0m \u001b[1;33m=\u001b[0m \u001b[0mExcelFile\u001b[0m\u001b[1;33m(\u001b[0m\u001b[0mio\u001b[0m\u001b[1;33m,\u001b[0m \u001b[0mengine\u001b[0m\u001b[1;33m=\u001b[0m\u001b[0mengine\u001b[0m\u001b[1;33m)\u001b[0m\u001b[1;33m\u001b[0m\u001b[1;33m\u001b[0m\u001b[0m\n\u001b[0m\u001b[0;32m    308\u001b[0m \u001b[1;33m\u001b[0m\u001b[0m\n\u001b[0;32m    309\u001b[0m     return io.parse(\n",
      "\u001b[1;32m~\\Anaconda3\\lib\\site-packages\\pandas\\io\\excel.py\u001b[0m in \u001b[0;36m__init__\u001b[1;34m(self, io, **kwds)\u001b[0m\n\u001b[0;32m    392\u001b[0m             \u001b[0mself\u001b[0m\u001b[1;33m.\u001b[0m\u001b[0mbook\u001b[0m \u001b[1;33m=\u001b[0m \u001b[0mxlrd\u001b[0m\u001b[1;33m.\u001b[0m\u001b[0mopen_workbook\u001b[0m\u001b[1;33m(\u001b[0m\u001b[0mfile_contents\u001b[0m\u001b[1;33m=\u001b[0m\u001b[0mdata\u001b[0m\u001b[1;33m)\u001b[0m\u001b[1;33m\u001b[0m\u001b[1;33m\u001b[0m\u001b[0m\n\u001b[0;32m    393\u001b[0m         \u001b[1;32melif\u001b[0m \u001b[0misinstance\u001b[0m\u001b[1;33m(\u001b[0m\u001b[0mself\u001b[0m\u001b[1;33m.\u001b[0m\u001b[0m_io\u001b[0m\u001b[1;33m,\u001b[0m \u001b[0mcompat\u001b[0m\u001b[1;33m.\u001b[0m\u001b[0mstring_types\u001b[0m\u001b[1;33m)\u001b[0m\u001b[1;33m:\u001b[0m\u001b[1;33m\u001b[0m\u001b[1;33m\u001b[0m\u001b[0m\n\u001b[1;32m--> 394\u001b[1;33m             \u001b[0mself\u001b[0m\u001b[1;33m.\u001b[0m\u001b[0mbook\u001b[0m \u001b[1;33m=\u001b[0m \u001b[0mxlrd\u001b[0m\u001b[1;33m.\u001b[0m\u001b[0mopen_workbook\u001b[0m\u001b[1;33m(\u001b[0m\u001b[0mself\u001b[0m\u001b[1;33m.\u001b[0m\u001b[0m_io\u001b[0m\u001b[1;33m)\u001b[0m\u001b[1;33m\u001b[0m\u001b[1;33m\u001b[0m\u001b[0m\n\u001b[0m\u001b[0;32m    395\u001b[0m         \u001b[1;32melse\u001b[0m\u001b[1;33m:\u001b[0m\u001b[1;33m\u001b[0m\u001b[1;33m\u001b[0m\u001b[0m\n\u001b[0;32m    396\u001b[0m             raise ValueError('Must explicitly set engine if not passing in'\n",
      "\u001b[1;32m~\\Anaconda3\\lib\\site-packages\\xlrd\\__init__.py\u001b[0m in \u001b[0;36mopen_workbook\u001b[1;34m(filename, logfile, verbosity, use_mmap, file_contents, encoding_override, formatting_info, on_demand, ragged_rows)\u001b[0m\n\u001b[0;32m    109\u001b[0m     \u001b[1;32melse\u001b[0m\u001b[1;33m:\u001b[0m\u001b[1;33m\u001b[0m\u001b[1;33m\u001b[0m\u001b[0m\n\u001b[0;32m    110\u001b[0m         \u001b[0mfilename\u001b[0m \u001b[1;33m=\u001b[0m \u001b[0mos\u001b[0m\u001b[1;33m.\u001b[0m\u001b[0mpath\u001b[0m\u001b[1;33m.\u001b[0m\u001b[0mexpanduser\u001b[0m\u001b[1;33m(\u001b[0m\u001b[0mfilename\u001b[0m\u001b[1;33m)\u001b[0m\u001b[1;33m\u001b[0m\u001b[1;33m\u001b[0m\u001b[0m\n\u001b[1;32m--> 111\u001b[1;33m         \u001b[1;32mwith\u001b[0m \u001b[0mopen\u001b[0m\u001b[1;33m(\u001b[0m\u001b[0mfilename\u001b[0m\u001b[1;33m,\u001b[0m \u001b[1;34m\"rb\"\u001b[0m\u001b[1;33m)\u001b[0m \u001b[1;32mas\u001b[0m \u001b[0mf\u001b[0m\u001b[1;33m:\u001b[0m\u001b[1;33m\u001b[0m\u001b[1;33m\u001b[0m\u001b[0m\n\u001b[0m\u001b[0;32m    112\u001b[0m             \u001b[0mpeek\u001b[0m \u001b[1;33m=\u001b[0m \u001b[0mf\u001b[0m\u001b[1;33m.\u001b[0m\u001b[0mread\u001b[0m\u001b[1;33m(\u001b[0m\u001b[0mpeeksz\u001b[0m\u001b[1;33m)\u001b[0m\u001b[1;33m\u001b[0m\u001b[1;33m\u001b[0m\u001b[0m\n\u001b[0;32m    113\u001b[0m     \u001b[1;32mif\u001b[0m \u001b[0mpeek\u001b[0m \u001b[1;33m==\u001b[0m \u001b[1;34mb\"PK\\x03\\x04\"\u001b[0m\u001b[1;33m:\u001b[0m \u001b[1;31m# a ZIP file\u001b[0m\u001b[1;33m\u001b[0m\u001b[1;33m\u001b[0m\u001b[0m\n",
      "\u001b[1;31mFileNotFoundError\u001b[0m: [Errno 2] No such file or directory: '/resources/data/barrios1.xlsx'"
     ]
    }
   ],
   "source": [
    "df = pd.read_excel(\"/resources/data/barrios1.xlsx\")# import the Neighbourhood dataset\n",
    "crime = pd.read_csv(\"/resources/data/delitos.csv\") # crime dataset\n",
    "\n"
   ]
  },
  {
   "cell_type": "markdown",
   "metadata": {},
   "source": [
    "## Exploratory Data Analysis"
   ]
  },
  {
   "cell_type": "markdown",
   "metadata": {
    "tags": [
     "{",
     "\"tags\":",
     "[",
     "\"hidecode\"",
     "]",
     "}"
    ]
   },
   "source": [
    "##### First we check the column names and the first rows of the dataset, consistency in the names of the columns is required for future merges between data frames, so if a name is not proper we change it. After calculate the amount of missing data, if is significant that column must be dropped, also other columns that wont be use in the analysis have to be drop."
   ]
  },
  {
   "cell_type": "code",
   "execution_count": null,
   "metadata": {
    "tags": [
     "{",
     "\"tags\":",
     "[",
     "\"hidecode\"",
     "]",
     "}"
    ]
   },
   "outputs": [],
   "source": [
    "df.drop('Unnamed: 0',axis = 1, inplace = True) # drop unncesary columns\n",
    "df.rename(columns = {\"lng\":\"lat\",\"lat\":\"lng\"})\n",
    "df.head()"
   ]
  },
  {
   "cell_type": "code",
   "execution_count": null,
   "metadata": {
    "tags": [
     "{",
     "\"tags\":",
     "[",
     "\"hidecode\"",
     "]",
     "}"
    ]
   },
   "outputs": [],
   "source": [
    "print('The dataframe has  {} neighborhoods.'.format( \n",
    "        len(df['Neighbourhood'].unique()),\n",
    "        df.shape[0]))"
   ]
  },
  {
   "cell_type": "markdown",
   "metadata": {},
   "source": [
    "##### Let's use the coordinates of Buenos Aires to center the map, and the coordinates of the neighborhoods to point where they are."
   ]
  },
  {
   "cell_type": "code",
   "execution_count": null,
   "metadata": {
    "tags": [
     "{",
     "\"tags\":",
     "[",
     "\"hidecode\"",
     "]",
     "}"
    ]
   },
   "outputs": [],
   "source": [
    "address = 'Buenos Aires'\n",
    "\n",
    "geolocator = Nominatim(user_agent=\"ba_explorer\")\n",
    "location = geolocator.geocode(address)\n",
    "latitude = location.latitude\n",
    "longitude = location.longitude\n",
    "print('The  coordinates of Buenos Aires are {}, {}.'.format(latitude, longitude))"
   ]
  },
  {
   "cell_type": "code",
   "execution_count": null,
   "metadata": {
    "scrolled": true,
    "tags": [
     "{",
     "\"tags\":",
     "[",
     "\"hidecode\"",
     "]",
     "}"
    ]
   },
   "outputs": [],
   "source": [
    "# create map of New York using latitude and longitude values\n",
    "map_ba = folium.Map(location=[latitude, longitude], zoom_start=12)\n",
    "\n",
    "# add markers to map\n",
    "for lat, lng, neig, com  in zip(df['lat'], df['lng'],df['Neighbourhood'],df['commune']):\n",
    "    label = '{}, {}'.format(neig , com)\n",
    "    label = folium.Popup(label, parse_html=True)\n",
    "    folium.CircleMarker(\n",
    "        [lat, lng],\n",
    "        radius=5,\n",
    "        popup=label,\n",
    "        color='blue',\n",
    "        fill=True,\n",
    "        fill_color='#3186cc',\n",
    "        fill_opacity=0.7,\n",
    "        parse_html=False).add_to(map_ba)  \n",
    "    \n",
    "map_ba"
   ]
  },
  {
   "cell_type": "markdown",
   "metadata": {
    "tags": [
     "{",
     "\"tags\":",
     "[",
     "\"hidecode\"",
     "]",
     "}"
    ]
   },
   "source": [
    "##### Check the first rows of the crime dataset."
   ]
  },
  {
   "cell_type": "code",
   "execution_count": null,
   "metadata": {
    "tags": [
     "{",
     "\"tags\":",
     "[",
     "\"hidecode\"",
     "]",
     "}"
    ]
   },
   "outputs": [],
   "source": [
    "# check the data \n",
    "crime.head()"
   ]
  },
  {
   "cell_type": "code",
   "execution_count": null,
   "metadata": {
    "tags": [
     "{",
     "\"tags\":",
     "[",
     "\"hidecode\"",
     "]",
     "}"
    ]
   },
   "outputs": [],
   "source": [
    "# check the NaN of these columns\n",
    "print(crime[[\"lugar\",\"origen_dato\"]].isna().sum(),'\\n', #calculate how much NaN are to drop them.\n",
    "crime[[\"cantidad_vehiculos\",\"cantidad_victimas\"]].sum())\n",
    "#Drop columns\n",
    "crime.drop([\"id\",\"lugar\",\"origen_dato\",\"cantidad_vehiculos\",\"cantidad_victimas\",\"fecha\"],axis = 1, inplace = True )\n",
    "\n",
    "\n"
   ]
  },
  {
   "cell_type": "code",
   "execution_count": null,
   "metadata": {
    "tags": [
     "{",
     "\"tags\":",
     "[",
     "\"hidecode\"",
     "]",
     "}"
    ]
   },
   "outputs": [],
   "source": [
    "crime.head()\n",
    "crime.columns = [\"commune\",\"Neighbourhood\",\"lat\",\"lng\",\"time\",\"gun\",\"bike\",\"type_crime\"] #rename columns"
   ]
  },
  {
   "cell_type": "markdown",
   "metadata": {
    "tags": [
     "{",
     "\"tags\":",
     "[",
     "\"hidecode\"",
     "]",
     "}"
    ]
   },
   "source": [
    "##### To know which neigbourhood is the dangerous, we group by the column \"Neighbourhood\" and apply the size method to count how many crimes were commited, then we rename the new column, and estimate a new column call \"Pct\" that is the percentage of crimes, we sort the values from most dangerus to least."
   ]
  },
  {
   "cell_type": "code",
   "execution_count": null,
   "metadata": {
    "tags": [
     "{",
     "\"tags\":",
     "[",
     "\"hidecode\"",
     "]",
     "}"
    ]
   },
   "outputs": [],
   "source": [
    "# Crime per Neighbourhood\n",
    "crime_Ng = pd.DataFrame(crime.groupby(\"Neighbourhood\").size()) # count crimes in each Neighbourhood\n",
    "crime_Ng.columns = [\"Total\"] #name column of count\n",
    "crime_Ng[\"Pct\"] = crime_Ng[\"Total\"]/len(crime)  # pct column\n",
    "crime_Ng.sort_values(\"Total\",ascending = False,inplace = True) \n",
    "display(crime_Ng.describe(),crime_Ng.head())\n",
    "crime_Ng = crime_Ng.reset_index()"
   ]
  },
  {
   "cell_type": "code",
   "execution_count": null,
   "metadata": {
    "tags": [
     "{",
     "\"tags\":",
     "[",
     "\"hidecode\"",
     "]",
     "}"
    ]
   },
   "outputs": [],
   "source": [
    "#Data Visuliation\n",
    "fig, ax = plt.subplots(figsize=(9,5))\n",
    "ax = sns.boxplot( x = \"Total\",data = crime_Ng)\n",
    "ax.set_title(\"Crimes\")\n",
    "ax.set_xlabel(\"Total Crimes\")\n",
    "plt.show()"
   ]
  },
  {
   "cell_type": "code",
   "execution_count": null,
   "metadata": {
    "tags": [
     "{",
     "\"tags\":",
     "[",
     "\"hidecode\"",
     "]",
     "}"
    ]
   },
   "outputs": [],
   "source": [
    "#Data Visuliation\n",
    "import matplotlib.pyplot as plt\n",
    "%matplotlib inline\n",
    "fig, ax = plt.subplots(figsize=(12,11))\n",
    "ax =sns.barplot(y = \"Neighbourhood\", x = \"Total\",data = crime_Ng , palette = \"RdBu_r\")\n",
    "ax.set_title(\"Total Crimes Per Neighbourhood\")\n",
    "plt.show()"
   ]
  },
  {
   "cell_type": "markdown",
   "metadata": {
    "tags": [
     "{",
     "\"tags\":",
     "[",
     "\"hidecode\"",
     "]",
     "}"
    ]
   },
   "source": [
    "##### We can see that Palermo is the most dangerous neighborhood in Buenos Aires with 27698 crimes and Puerto Madero is the least dangerous with just 338, around 90 times less than Palermo. The median, mean and standard deviation of crimes per neighborhood are 5549, 7250, and , 5905."
   ]
  },
  {
   "cell_type": "markdown",
   "metadata": {
    "tags": [
     "{",
     "\"tags\":",
     "[",
     "\"hidecode\"",
     "]",
     "}"
    ]
   },
   "source": [
    "##### After dertiminated which are the mos dangerous and safe neighborhoods, it's important to know which type of crimes are commited the most, to do this we group by the column \"type_crime\" and apply the size method and sort in descending order."
   ]
  },
  {
   "cell_type": "code",
   "execution_count": null,
   "metadata": {
    "tags": [
     "{",
     "\"tags\":",
     "[",
     "\"hidecode\"",
     "]",
     "}"
    ]
   },
   "outputs": [],
   "source": [
    " #Type of Crimes\n",
    "crime_ty = pd.DataFrame(crime.groupby(\"type_crime\").size()) # count crimes in each Neighbourhood\n",
    "crime_ty.columns = [\"Total\"] #name column of count\n",
    "crime_ty[\"Pct\"] = crime_ty[\"Total\"]/len(crime)  # pct column\n",
    "crime_ty.sort_values(\"Total\",ascending = False,inplace = True) \n",
    "crime_ty =crime_ty.reset_index()\n",
    "display(crime_ty)"
   ]
  },
  {
   "cell_type": "code",
   "execution_count": null,
   "metadata": {
    "tags": [
     "{",
     "\"tags\":",
     "[",
     "\"hidecode\"",
     "]",
     "}"
    ]
   },
   "outputs": [],
   "source": [
    "#Count of crimes\n",
    "fig, ax = plt.subplots(figsize=(8,6))\n",
    "ax = sns.barplot(y = \"type_crime\", x = \"Total\",data = crime_ty, palette = \"dark\")\n",
    "ax.set_title(\"Amount of Crime per Type\")\n",
    "ax.set_ylabel(\"Type of Crime\")\n",
    "ax.set_xlabel(\"Count\")\n",
    "plt.show()"
   ]
  },
  {
   "cell_type": "markdown",
   "metadata": {
    "tags": [
     "{",
     "\"tags\":",
     "[",
     "\"hidecode\"",
     "]",
     "}"
    ]
   },
   "source": [
    "##### From the previous data we can see that \"Theft with violence\" is the most common crime and \"Homicide road Safety\" is the least common, we can also say that the rate of murder(\"Homicide\" per 100000 inhabitants) in Buenos Aires is low compare to other main cities  in Latin America like Brazil, Honduras, Venezuela, Mexico, among others.\n",
    "\n",
    "##### Finally we look at which are the most commons crimes in each neighborhood, we repeat the process of group by, in this case two columns \"type_crime\"and \"Neighborhood\" and applying the size method."
   ]
  },
  {
   "cell_type": "code",
   "execution_count": null,
   "metadata": {
    "tags": [
     "{",
     "\"tags\":",
     "[",
     "\"hidecode\"",
     "]",
     "}"
    ]
   },
   "outputs": [],
   "source": [
    "#type of crime in Neighbourhood\n",
    "crime_tn = pd.DataFrame(crime.groupby([\"Neighbourhood\",\"type_crime\"]).size()) # count crimes in each Neighbourhood\n",
    "crime_tn.columns = [\"Total\"] #name column of count\n",
    "crime_tn.reset_index(inplace = True)\n",
    "#crime_tn.head"
   ]
  },
  {
   "cell_type": "markdown",
   "metadata": {
    "tags": [
     "{",
     "\"tags\":",
     "[",
     "\"hidecode\"",
     "]",
     "}"
    ]
   },
   "source": [
    "##### To see which hour is the mos dangerous in the city, fisrt check if the column type is appropiate to work with, if isn't we convert to a date type, then extract the hour and assign it in to a list, then we create a new column call  \"hour\", finally we repeat the group by process and method size."
   ]
  },
  {
   "cell_type": "code",
   "execution_count": null,
   "metadata": {
    "tags": [
     "{",
     "\"tags\":",
     "[",
     "\"hidecode\"",
     "]",
     "}"
    ]
   },
   "outputs": [],
   "source": [
    "type(crime.time[0]) #check the tyoe of var"
   ]
  },
  {
   "cell_type": "code",
   "execution_count": null,
   "metadata": {
    "tags": [
     "{",
     "\"tags\":",
     "[",
     "\"hidecode\"",
     "]",
     "}"
    ]
   },
   "outputs": [],
   "source": [
    " time = pd.to_datetime(crime.time) #change to datetime"
   ]
  },
  {
   "cell_type": "code",
   "execution_count": null,
   "metadata": {},
   "outputs": [],
   "source": [
    " type(time[0]) #check change"
   ]
  },
  {
   "cell_type": "code",
   "execution_count": null,
   "metadata": {
    "tags": [
     "{",
     "\"tags\":",
     "[",
     "\"hidecode\"",
     "]",
     "}"
    ]
   },
   "outputs": [],
   "source": [
    "hour = []\n",
    "for i in time:\n",
    "    hour.append(i.hour) #extract the hour as a number for every crime"
   ]
  },
  {
   "cell_type": "code",
   "execution_count": null,
   "metadata": {
    "tags": [
     "{",
     "\"tags\":",
     "[",
     "\"hidecode\"",
     "]",
     "}"
    ]
   },
   "outputs": [],
   "source": [
    "crime[\"time\"] = hour #assing the new column to the orignal DataFrame\n",
    "hour = pd.DataFrame(hour) # make a Dataframe for plotting\n",
    "hour.columns =[\"hour\"] #assign name\n"
   ]
  },
  {
   "cell_type": "code",
   "execution_count": null,
   "metadata": {
    "tags": [
     "{",
     "\"tags\":",
     "[",
     "\"hidecode\"",
     "]",
     "}"
    ]
   },
   "outputs": [],
   "source": [
    "time1 = pd.DataFrame(hour.groupby(\"hour\").size())\n",
    "time1.reset_index(inplace = True)\n",
    "time1.columns  = [\"hour\",\"count\"]"
   ]
  },
  {
   "cell_type": "code",
   "execution_count": null,
   "metadata": {
    "tags": [
     "{",
     "\"tags\":",
     "[",
     "\"hidecode\"",
     "]",
     "}"
    ]
   },
   "outputs": [],
   "source": [
    "time1[\"pct\"] = time1[\"count\"]/len(time)\n",
    "time1.head()"
   ]
  },
  {
   "cell_type": "code",
   "execution_count": null,
   "metadata": {
    "tags": [
     "{",
     "\"tags\":",
     "[",
     "\"hidecode\"",
     "]",
     "}"
    ]
   },
   "outputs": [],
   "source": [
    "fig, ax = plt.subplots(figsize=(15,10))\n",
    "ax = sns.barplot(x = \"hour\" ,y = \"pct\", ax=ax,data = time1)\n",
    "\n",
    "\n",
    "ax.set_xlabel(\"Hour\",fontsize = 14)\n",
    "ax.set_title(\"Crimes commited per Hour\",fontsize = 16)\n",
    "\n",
    "ax.spines['top'].set_visible(False)\n",
    "ax.spines['right'].set_visible(False)\n",
    "ax.spines['left'].set_visible(False)\n",
    "ax.set_ylabel(\" \",fontsize = 14)\n",
    "for i in ax.patches:\n",
    "    p_x = i.get_x()\n",
    "    p_y = i.get_height()\n",
    "    ax.annotate(xy = (p_x + 0.06, p_y + 0.001 ), \n",
    "            s = \"{:.0f}%\".format(round(p_y*100, 0)), \n",
    "            ha = 'left', va='center', fontsize=10)\n",
    "    \n",
    "    \n",
    "plt.yticks([])\n",
    "plt.show()\n",
    "plt.show()"
   ]
  },
  {
   "cell_type": "code",
   "execution_count": null,
   "metadata": {
    "tags": [
     "{",
     "\"tags\":",
     "[",
     "\"hidecode\"",
     "]",
     "}"
    ]
   },
   "outputs": [],
   "source": [
    "display(time1[[\"hour\",\"count\"]].corr())"
   ]
  },
  {
   "cell_type": "markdown",
   "metadata": {
    "tags": [
     "{",
     "\"tags\":",
     "[",
     "\"hidecode\"",
     "]",
     "}"
    ]
   },
   "source": [
    "##### We can see that 64% of the crimes are happened in the second half of the day, and between six and 10 p.m. 32% of the crimes are committed, clearly the preferred time is by the night, when usually more people go out for distraction."
   ]
  },
  {
   "cell_type": "code",
   "execution_count": null,
   "metadata": {
    "tags": [
     "{",
     "\"tags\":",
     "[",
     "\"hidecode\"",
     "]",
     "}"
    ]
   },
   "outputs": [],
   "source": [
    "#a = [1,2,3,4,5]\n",
    "#for i in a:\n",
    "#    fig, ax = plt.subplots(figsize=(7.5,10))\n",
    "#    ax = sns.regplot(x = \"hour\" ,y = \"count\", ax=ax,data = time1,order =i)\n",
    "#    ax.set_xlabel(\"Hour\",fontsize = 14)\n",
    "#    ax.set_ylabel(\"Count\",fontsize = 16)\n",
    "#    ax.set_title(\"Crimes per Hour, order of cruve {}\".format(i),fontsize = 16)"
   ]
  },
  {
   "cell_type": "markdown",
   "metadata": {
    "tags": [
     "{",
     "\"tags\":",
     "[",
     "\"hidecode\"",
     "]",
     "}"
    ]
   },
   "source": [
    "## Import Dataset"
   ]
  },
  {
   "cell_type": "code",
   "execution_count": null,
   "metadata": {
    "tags": [
     "{",
     "\"tags\":",
     "[",
     "\"hidecode\"",
     "]",
     "}"
    ]
   },
   "outputs": [],
   "source": [
    "alq = pd.read_excel(\"/resources/data/alquileres.xlsx\")"
   ]
  },
  {
   "cell_type": "code",
   "execution_count": null,
   "metadata": {
    "tags": [
     "{",
     "\"tags\":",
     "[",
     "\"hidecode\"",
     "]",
     "}"
    ]
   },
   "outputs": [],
   "source": [
    "alq.head()"
   ]
  },
  {
   "cell_type": "code",
   "execution_count": null,
   "metadata": {
    "tags": [
     "{",
     "\"tags\":",
     "[",
     "\"hidecode\"",
     "]",
     "}"
    ]
   },
   "outputs": [],
   "source": [
    " #drop first row, and las two columns\n",
    "rent = alq.iloc[2:,0:13]  #just working with data from the 2018 \n",
    "rent[\"Barrio\"] = rent[\"Barrio\"].str.upper()\n",
    "rent.describe()"
   ]
  },
  {
   "cell_type": "code",
   "execution_count": null,
   "metadata": {
    "tags": [
     "{",
     "\"tags\":",
     "[",
     "\"hidecode\"",
     "]",
     "}"
    ]
   },
   "outputs": [],
   "source": [
    "rent_month = pd.DataFrame(rent.mean())\n",
    "rent_month[\"month_n\"] = range(1,13) \n",
    "rent_month.columns = [\"mean_rent\",\"month_n\"]\n",
    "rent_month[\"mean_rent\"] = rent_month[\"mean_rent\"]//30 # divide to 30 to get the price per squere"
   ]
  },
  {
   "cell_type": "code",
   "execution_count": null,
   "metadata": {
    "tags": [
     "{",
     "\"tags\":",
     "[",
     "\"hidecode\"",
     "]",
     "}"
    ]
   },
   "outputs": [],
   "source": [
    "fig, ax = plt.subplots(figsize=(10,5))\n",
    "ax = sns.set_style(\"whitegrid\")\n",
    "ax = sns.lineplot(x = \"month_n\",\n",
    "                  y = \"mean_rent\",\n",
    "                  data = rent_month,\n",
    "                  color = \"k\")\n",
    "ax = sns.scatterplot(x = \"month_n\",\n",
    "                  y = \"mean_rent\",\n",
    "                  data = rent_month\n",
    "                    ) \n",
    "ax.set_title(\"Cost of the rent monthly 2018\", size = 16)\n",
    "ax.set_ylabel(\"Mean rent per month 2018\", size = 14)\n",
    "ax.set_xlabel(\"Month of the Year\", size = 14)\n",
    "ax.set_ylim(360,460)\n",
    "ax.set_xlim(0,12)\n",
    "plt.show()"
   ]
  },
  {
   "cell_type": "code",
   "execution_count": null,
   "metadata": {
    "tags": [
     "{",
     "\"tags\":",
     "[",
     "\"hidecode\"",
     "]",
     "}"
    ]
   },
   "outputs": [],
   "source": [
    "rent_ng = pd.DataFrame(rent.mean(axis = 1))\n",
    "rent_ng[\"Neighbourhood\"] = rent[\"Barrio\"] \n",
    "rent_ng.columns = [\"mean_rent\",\"Neighbourhood\"]\n",
    "rent_ng[\"mean_rent\"] = rent_ng[\"mean_rent\"]//30\n",
    "rent_ng = rent_ng.sort_values(\"mean_rent\",ascending = False)\n",
    "rent_ng.head()"
   ]
  },
  {
   "cell_type": "code",
   "execution_count": null,
   "metadata": {
    "tags": [
     "{",
     "\"tags\":",
     "[",
     "\"hidecode\"",
     "]",
     "}"
    ]
   },
   "outputs": [],
   "source": [
    "rent.rename(columns = {\"Barrio\":\"Neighbourhood\"},inplace = True)\n",
    "\n",
    "display(rent.head(),\n",
    "        rent.shape)\n"
   ]
  },
  {
   "cell_type": "code",
   "execution_count": null,
   "metadata": {
    "tags": [
     "{",
     "\"tags\":",
     "[",
     "\"hidecode\"",
     "]",
     "}"
    ]
   },
   "outputs": [],
   "source": [
    "fig, ax = plt.subplots(figsize=(15,11))\n",
    "ax = sns.barplot(y = \"Neighbourhood\", \n",
    "            x = \"mean_rent\",\n",
    "            data = rent_ng \n",
    "           )\n",
    "ax.set_xlim(0,700)\n",
    "ax.set_title(\"Rent Buenos Aires\",size = 16)\n",
    "ax.set_xlabel(\"Pesos per square meter\",size = 14)\n",
    "ax.set_ylabel(\"Neighbourhood\",size = 14)\n",
    "plt.show()"
   ]
  },
  {
   "cell_type": "markdown",
   "metadata": {
    "tags": [
     "{",
     "\"tags\":",
     "[",
     "\"hidecode\"",
     "]",
     "}"
    ]
   },
   "source": [
    "##### Here we can apreciate how all most statistical indicator have gone up from January to December, in the first chart we can see that the trend is up for all months.\n",
    "\n",
    "##### Also we can see that Puerto Madero is by more than 200 pesos per square meter is the most exclusive neighborhood in all Buenos Aires, this area of the city is full of new and modern real state development and is one of the most popular neighborhood for turism, also happened to be one the safestest area in all the city.\n",
    "\n",
    "##### Then we can say that the rest of the neighborhood are between 500 and 300 pesos per square meter, 22 in the range of 499 to 400 and 23 in the range of 399 to 300."
   ]
  },
  {
   "cell_type": "code",
   "execution_count": null,
   "metadata": {
    "tags": [
     "{",
     "\"tags\":",
     "[",
     "\"hidecode\"",
     "]",
     "}"
    ]
   },
   "outputs": [],
   "source": [
    "crime_rent = pd.merge(crime_Ng,rent_ng, on = \"Neighbourhood\")\n",
    "crime_rent.drop(\"Pct\",axis=1,inplace = True) \n"
   ]
  },
  {
   "cell_type": "code",
   "execution_count": null,
   "metadata": {
    "tags": [
     "{",
     "\"tags\":",
     "[",
     "\"hidecode\"",
     "]",
     "}"
    ]
   },
   "outputs": [],
   "source": [
    "ba_df = pd.merge(crime_rent,df ,on = \"Neighbourhood\")\n",
    "ba_df = ba_df.rename(columns = {\"Total\":\"Total_Crimes\" ,\"mean_rent\":\"Psm\"})\n",
    "display(ba_df.head())"
   ]
  },
  {
   "cell_type": "code",
   "execution_count": null,
   "metadata": {
    "tags": [
     "{",
     "\"tags\":",
     "[",
     "\"hidecode\"",
     "]",
     "}"
    ]
   },
   "outputs": [],
   "source": [
    "output_notebook()"
   ]
  },
  {
   "cell_type": "code",
   "execution_count": null,
   "metadata": {
    "tags": [
     "{",
     "\"tags\":",
     "[",
     "\"hidecode\"",
     "]",
     "}"
    ]
   },
   "outputs": [],
   "source": [
    "source = ColumnDataSource(ba_df)\n",
    "p1 = figure(x_axis_label = \"Price per Squre meter\",y_axis_label = \"Total Crimes\")\n",
    "p1.circle(y = 'Total_Crimes',\n",
    "          x = 'Psm',\n",
    "          source = source,\n",
    "          size=10)\n",
    "hover = HoverTool(tooltips=[\n",
    "                    ('Neighbourhood','@Neighbourhood'),\n",
    "                    ('Price','@Psm'),\n",
    "                    ('Total Crimes','@Total_Crimes')\n",
    "                    ])\n",
    "p1.add_tools(hover)\n",
    "output_file('cri-psm.html')\n",
    "show(p1)"
   ]
  },
  {
   "cell_type": "code",
   "execution_count": null,
   "metadata": {
    "tags": [
     "{",
     "\"tags\":",
     "[",
     "\"hidecode\"",
     "]",
     "}"
    ]
   },
   "outputs": [],
   "source": [
    "#from sklearn.preprocessing import StandardScaler\n",
    "from sklearn.preprocessing import Normalizer\n",
    "drop =[\"commune\"]#,\"lat\",\"lng\"]\n",
    "X = ba_df.drop(drop,axis =1).values[:,1:]\n",
    "\n",
    "#X = np.nan_to_num(X)\n",
    "cluster_dataset =Normalizer().fit_transform(X)\n",
    "#cluster_dataset\n",
    "ks = range(1, 9)\n",
    "inertias = []\n",
    "\n",
    "for k in ks:\n",
    "    # Create a KMeans instance with k clusters: model\n",
    "    model = KMeans(n_clusters = k)\n",
    "    \n",
    "    # Fit model to samples\n",
    "    model.fit(X)\n",
    "    \n",
    "    # Append the inertia to the list of inertias\n",
    "    inertias.append(model.inertia_)\n",
    "    \n",
    "# Plot ks vs inertias\n",
    "plt.plot(ks, inertias, '-o')\n",
    "plt.xlabel('Number of clusters, k')\n",
    "plt.ylabel('Inertia')\n",
    "plt.xticks(ks)\n",
    "plt.show()\n"
   ]
  },
  {
   "cell_type": "code",
   "execution_count": null,
   "metadata": {
    "tags": [
     "{",
     "\"tags\":",
     "[",
     "\"hidecode\"",
     "]",
     "}"
    ]
   },
   "outputs": [],
   "source": [
    "num_clusters = 5\n",
    "\n",
    "k_means = KMeans(init=\"k-means++\", n_clusters=num_clusters, n_init=20)\n",
    "k_means.fit(cluster_dataset)\n",
    "labels = k_means.labels_\n",
    "centers = k_means.cluster_centers_\n",
    "print(labels,centers)"
   ]
  },
  {
   "cell_type": "code",
   "execution_count": null,
   "metadata": {
    "tags": [
     "{",
     "\"tags\":",
     "[",
     "\"hidecode\"",
     "]",
     "}"
    ]
   },
   "outputs": [],
   "source": [
    "ba_df[\"Labels\"] = labels\n",
    "ba_df.head()"
   ]
  },
  {
   "cell_type": "code",
   "execution_count": null,
   "metadata": {
    "tags": [
     "{",
     "\"tags\":",
     "[",
     "\"hidecode\"",
     "]",
     "}"
    ]
   },
   "outputs": [],
   "source": [
    "ba_df_mean = pd.DataFrame(ba_df.groupby('Labels')[[\"Total_Crimes\",\"Psm\"]].mean()).reset_index()\n",
    "ba_df_mean[\"Count\"] = ba_df[\"Labels\"].value_counts()\n",
    "ba_df_mean[\"Labels\"] = ba_df_mean[\"Labels\"].astype('category')\n",
    "\n",
    "display(ba_df_mean,\n",
    "        ba_df_mean[\"Total_Crimes\"].std(),\n",
    "        ba_df_mean[\"Psm\"].std())"
   ]
  },
  {
   "cell_type": "code",
   "execution_count": null,
   "metadata": {
    "tags": [
     "{",
     "\"tags\":",
     "[",
     "\"hidecode\"",
     "]",
     "}"
    ]
   },
   "outputs": [],
   "source": [
    "output_notebook()\n",
    "source = ColumnDataSource(ba_df_mean)\n",
    " \n",
    "p1 = figure(x_axis_label = \"Cluster\",y_axis_label = \"Count\")\n",
    "p1.vbar(top = 'Count',\n",
    "        x = 'Labels',\n",
    "        source = source,\n",
    "        width = 0.9)\n",
    "hover = HoverTool(tooltips=[\n",
    "                    ('Mean Total Crimes','@Total_Crimes'),\n",
    "                    ('Mean Rent Cost','@Psm')])\n",
    "p1.add_tools(hover)\n",
    "output_file('mean.html')\n",
    "show(p1)"
   ]
  },
  {
   "cell_type": "markdown",
   "metadata": {
    "tags": [
     "{",
     "\"tags\":",
     "[",
     "\"hidecode\"",
     "]",
     "}"
    ]
   },
   "source": [
    "## Results"
   ]
  },
  {
   "cell_type": "markdown",
   "metadata": {
    "tags": [
     "{",
     "\"tags\":",
     "[",
     "\"hidecode\"",
     "]",
     "}"
    ]
   },
   "source": [
    "##### To classify the neighborhoods, first we merge the data frames containing the crimes, rent cost and locations of each neighborhood, then we drop the column \"commune\", and extract the values of these columns.\n",
    "\n",
    "##### Is necessary apply a machine learning classification method, in this case KMeans,first the \"Elbow Method\" was applied, and select the number where the slope start to decrease her decline the most, in this case is 5 so that will be the number of cluster to use. After that sort out the neighborhood, and attach their label to the data frame and convert to a category type.\n",
    "\n",
    "\n",
    "##### To obtain the characteristic of each category, the mean method was apply:\n",
    "\n",
    "##### Category:0 There are 15 neighborhoods, that have  a mean price per square meter of 405.67 and a mean rate crime of 6219 per year.\n",
    "##### Category:1 There is 1 neighborhood, Palermo, it has  a mean price per square meter of 691 (max rent price) and a mean rate crime of 338 (min total crime) per year.\n",
    "##### Category:2 There are 4 neighborhoods, that have  a mean price per square meter of 400.5 and a mean rate crime of 1526 per year.\n",
    "##### Category:3 There are 9 neighborhoods, that have  a mean price per square meter of 382.22 and a mean rate crime of 3209 per year.\n",
    "##### Category:4 There are 13 neighborhoods, that have  a mean price per square meter of 387.77 and a mean rate crime of 14867.15 per year.\n",
    "\n",
    "##### The only \"outlier\" is Puerto Madero it has the highest rent and the lowest crime rate in all the city, then  deviation in rent price for the rest of the clusters is just 133 pesos per square meter looking to the crime stats the range is much wider than for the rent, here the deviation is 5427 crimes, so it can be said that the crime rate is the biggest difference between the clusters, and its a fundamental factor, also the rent prices  are packed in big groups, the don't differ that much from neighborhood to neighborhood.\n",
    "\n",
    "##### Finally a representation of the category is made with an interactive bar chart, that provides the characteristics of each cluster.\n"
   ]
  },
  {
   "cell_type": "code",
   "execution_count": null,
   "metadata": {
    "tags": [
     "{",
     "\"tags\":",
     "[",
     "\"hidecode\"",
     "]",
     "}"
    ]
   },
   "outputs": [],
   "source": [
    "ba_df_2 = ba_df[ba_df.Labels == 2]\n",
    "ba_df_3 = ba_df[ba_df.Labels == 3]\n",
    "ba_df_23 = ba_df_2.append(ba_df_3)"
   ]
  },
  {
   "cell_type": "code",
   "execution_count": null,
   "metadata": {
    "tags": [
     "{",
     "\"tags\":",
     "[",
     "\"hidecode\"",
     "]",
     "}"
    ]
   },
   "outputs": [],
   "source": [
    "display(ba_df_23)"
   ]
  },
  {
   "cell_type": "code",
   "execution_count": null,
   "metadata": {
    "tags": [
     "{",
     "\"tags\":",
     "[",
     "\"hidecode\"",
     "]",
     "}"
    ]
   },
   "outputs": [],
   "source": [
    "dist =[]\n",
    "from geopy.distance import geodesic\n",
    "for lat,lng in zip(ba_df_23[\"lat\"],ba_df_23[\"lng\"]):\n",
    "    dwtn = (-34.60389, -58.37056)\n",
    "    dist.append(geodesic(dwtn,(lat,lng)).kilometers)\n"
   ]
  },
  {
   "cell_type": "code",
   "execution_count": null,
   "metadata": {
    "tags": [
     "{",
     "\"tags\":",
     "[",
     "\"hidecode\"",
     "]",
     "}"
    ]
   },
   "outputs": [],
   "source": [
    "ba_df_23[\"dist (km)\"] = dist"
   ]
  },
  {
   "cell_type": "code",
   "execution_count": null,
   "metadata": {
    "tags": [
     "{",
     "\"tags\":",
     "[",
     "\"hidecode\"",
     "]",
     "}"
    ]
   },
   "outputs": [],
   "source": [
    "ba_df_23"
   ]
  },
  {
   "cell_type": "code",
   "execution_count": null,
   "metadata": {
    "tags": [
     "{",
     "\"tags\":",
     "[",
     "\"hidecode\"",
     "]",
     "}"
    ]
   },
   "outputs": [],
   "source": [
    "ba_df_23 = ba_df_23.sort_values(\"dist (km)\",ascending = True).head()\n",
    "ba_df_23"
   ]
  },
  {
   "cell_type": "markdown",
   "metadata": {
    "tags": [
     "{",
     "\"tags\":",
     "[",
     "\"hidecode\"",
     "]",
     "}"
    ]
   },
   "source": [
    "##### Then the cluster to be selected are the one we the lowest crime rate and price per square meter."
   ]
  },
  {
   "cell_type": "markdown",
   "metadata": {
    "tags": [
     "{",
     "\"tags\":",
     "[",
     "\"hidecode\"",
     "]",
     "}"
    ]
   },
   "source": [
    "##### Chacarita is the clotest neighborhood to the center of the city that is ralative cheap and safe, in the top five clotest to the downtown Chacarita is the one with the most crimes and higher rent, but in this case minimize distance is the main goal so this is the neighborhood selected to move."
   ]
  },
  {
   "cell_type": "markdown",
   "metadata": {
    "tags": [
     "{",
     "\"tags\":",
     "[",
     "\"hidecode\"",
     "]",
     "}"
    ]
   },
   "source": [
    "## Foresquare"
   ]
  },
  {
   "cell_type": "code",
   "execution_count": null,
   "metadata": {
    "tags": [
     "{",
     "\"tags\":",
     "[",
     "\"hidecode\"",
     "]",
     "}"
    ]
   },
   "outputs": [],
   "source": [
    "CLIENT_ID = 'YYMWR3DMQYBQSQB3WS4DJYNHBFBZRU5NYLDW3JR1MZHAURSF' # your Foursquare ID\n",
    "CLIENT_SECRET = '45B3HWT33Y35RKHPXVWKDEZHRPBZCWJC1XH0BAQYFJM5DPE3' # your Foursquare Secret\n",
    "VERSION = '20180605' # Foursquare API version\n",
    "\n",
    "print('Your credentails:')\n",
    "print('CLIENT_ID: ' + CLIENT_ID)\n",
    "print('CLIENT_SECRET:' + CLIENT_SECRET)"
   ]
  },
  {
   "cell_type": "markdown",
   "metadata": {
    "tags": [
     "{",
     "\"tags\":",
     "[",
     "\"hidecode\"",
     "]",
     "}"
    ]
   },
   "source": [
    "##### Select Chacarita coordinates to extract the venues."
   ]
  },
  {
   "cell_type": "code",
   "execution_count": null,
   "metadata": {
    "tags": [
     "{",
     "\"tags\":",
     "[",
     "\"hidecode\"",
     "]",
     "}"
    ]
   },
   "outputs": [],
   "source": [
    "cha_lat = ba_df_23.iloc[0,4]\n",
    "cha_lng = ba_df_23.iloc[0,5]\n",
    "display(cha_lat,cha_lng)"
   ]
  },
  {
   "cell_type": "markdown",
   "metadata": {
    "tags": [
     "{",
     "\"tags\":",
     "[",
     "\"hidecode\"",
     "]",
     "}"
    ]
   },
   "source": [
    "###### Look for the top 100 venues that are in Chacarita within a radius of a kilometer"
   ]
  },
  {
   "cell_type": "code",
   "execution_count": null,
   "metadata": {
    "tags": [
     "{",
     "\"tags\":",
     "[",
     "\"hidecode\"",
     "]",
     "}"
    ]
   },
   "outputs": [],
   "source": [
    "LIMIT = 100 # limit of number of venues returned by Foursquare API\n",
    " \n",
    "radius = 1000 # define radius\n",
    " \n",
    " # create URL\n",
    "url = 'https://api.foursquare.com/v2/venues/explore?&client_id={}&client_secret={}&v={}&ll={},{}&radius={}&limit={}'.format(\n",
    "    CLIENT_ID, \n",
    "    CLIENT_SECRET, \n",
    "    VERSION, \n",
    "    cha_lat, \n",
    "    cha_lng, \n",
    "    radius, \n",
    "    LIMIT)\n",
    "url # display URL"
   ]
  },
  {
   "cell_type": "code",
   "execution_count": null,
   "metadata": {
    "tags": [
     "{",
     "\"tags\":",
     "[",
     "\"hidecode\"",
     "]",
     "}"
    ]
   },
   "outputs": [],
   "source": [
    "results = requests.get(url).json()\n",
    "#results"
   ]
  },
  {
   "cell_type": "code",
   "execution_count": null,
   "metadata": {
    "tags": [
     "{",
     "\"tags\":",
     "[",
     "\"hidecode\"",
     "]",
     "}"
    ]
   },
   "outputs": [],
   "source": [
    "# function that extracts the category of the venue\n",
    "def get_category_type(row):\n",
    "    try:\n",
    "        categories_list = row['categories']\n",
    "    except:\n",
    "        categories_list = row['venue.categories']\n",
    "        \n",
    "    if len(categories_list) == 0:\n",
    "        return None\n",
    "    else:\n",
    "        return categories_list[0]['name']\n",
    "\n",
    "    \n",
    " "
   ]
  },
  {
   "cell_type": "code",
   "execution_count": null,
   "metadata": {
    "tags": [
     "{",
     "\"tags\":",
     "[",
     "\"hidecode\"",
     "]",
     "}"
    ]
   },
   "outputs": [],
   "source": [
    "venues = results['response']['groups'][0]['items']\n",
    "    \n",
    "nearby_venues = json_normalize(venues) # flatten JSON\n",
    "\n",
    "# filter columns\n",
    "filtered_columns = ['venue.name', 'venue.categories', 'venue.location.lat', 'venue.location.lng']\n",
    "nearby_venues =nearby_venues.loc[:, filtered_columns]\n",
    "\n",
    "# filter the category for each row\n",
    "nearby_venues['venue.categories'] = nearby_venues.apply(get_category_type, axis=1)\n",
    "\n",
    "# clean columns\n",
    "nearby_venues.columns = [col.split(\".\")[-1] for col in nearby_venues.columns]\n",
    "\n",
    "display(nearby_venues.head())"
   ]
  },
  {
   "cell_type": "markdown",
   "metadata": {
    "tags": [
     "{",
     "\"tags\":",
     "[",
     "\"hidecode\"",
     "]",
     "}"
    ]
   },
   "source": [
    "###### There are 79 venues close to Chacarita, in the next chart we can see which are the most common venues a round Chacarita."
   ]
  },
  {
   "cell_type": "code",
   "execution_count": null,
   "metadata": {
    "tags": [
     "{",
     "\"tags\":",
     "[",
     "\"hidecode\"",
     "]",
     "}"
    ]
   },
   "outputs": [],
   "source": [
    "df4 = pd.DataFrame(nearby_venues.groupby(\"categories\").size())\n",
    "df4.columns = [\"total\"]\n",
    "df4 = df4.sort_values(\"total\",ascending = False)\n",
    "df4 = df4.reset_index()\n",
    "\n",
    "fig, ax = plt.subplots(figsize=(15,11))\n",
    "ax = sns.barplot(y = \"categories\", \n",
    "            x = \"total\",\n",
    "            data = df4 \n",
    "           )\n",
    "ax.set_xlim(0,5)\n",
    "ax.set_title(\"Venues Categories\",size = 16)\n",
    "ax.set_xlabel(\"Total\",size = 14)\n",
    "ax.set_ylabel(\"Categories\",size = 14)\n",
    "plt.show()\n",
    "\n"
   ]
  },
  {
   "cell_type": "markdown",
   "metadata": {
    "tags": [
     "{",
     "\"tags\":",
     "[",
     "\"hidecode\"",
     "]",
     "}"
    ]
   },
   "source": [
    "##### The neighbourhood has all the basic store/locals that are needed pharmacy, restaurants, markers, bus stop, swimming pool among others."
   ]
  },
  {
   "cell_type": "code",
   "execution_count": null,
   "metadata": {
    "tags": [
     "{",
     "\"tags\":",
     "[",
     "\"hidecode\"",
     "]",
     "}"
    ]
   },
   "outputs": [],
   "source": [
    "with open('/resources/data/barrios.geojson') as json_data:\n",
    "    ba_data = json.load(json_data)\n",
    "map_ba2 = folium.Map(location=[latitude, longitude], zoom_start=11)\n",
    "\n",
    " \n",
    "\n",
    "map_ba2.choropleth(\n",
    "    geo_data=ba_data,\n",
    "    data=rent_ng,\n",
    "    columns=['Neighbourhood', 'mean_rent'],\n",
    "    key_on='feature.properties.BARRIO',\n",
    "    fill_color='YlOrRd', \n",
    "    fill_opacity=0.7, \n",
    "    line_opacity=0.2,\n",
    "    legend_name='Rent Price per Square Meter Buenos Aires'\n",
    ")\n",
    "\n",
    "# set color scheme for the clusters\n",
    "x = np.arange(num_clusters)\n",
    "ys = [i + x + (i*x)**2 for i in (range(num_clusters))]\n",
    "colors_array = cm.rainbow(np.linspace(0, 1, len(ys)))\n",
    "rainbow = [colors.rgb2hex(i) for i in colors_array]\n",
    "\n",
    "# add markers to the map\n",
    "markers_colors = []\n",
    "for lat, lon, poi, cluster in zip(ba_df['lat'], ba_df['lng'], ba_df['Neighbourhood'], ba_df['Labels']):\n",
    "    label = folium.Popup(str(poi) + ' Cluster ' + str(cluster), parse_html=True)\n",
    "    folium.CircleMarker(\n",
    "        [lat, lon],\n",
    "        radius=5,\n",
    "        popup=label,\n",
    "        color=rainbow[cluster-1],\n",
    "        fill=True,\n",
    "        fill_color=rainbow[cluster-1],\n",
    "        fill_opacity=0.7).add_to(map_ba2)\n",
    "       \n",
    "\n",
    "\n",
    "map_ba2"
   ]
  },
  {
   "cell_type": "code",
   "execution_count": null,
   "metadata": {
    "tags": [
     "{",
     "\"tags\":",
     "[",
     "\"hidecode\"",
     "]",
     "}"
    ]
   },
   "outputs": [],
   "source": [
    "map_ba1 = folium.Map(location=[latitude, longitude], zoom_start=11)\n",
    "\n",
    "with open('/resources/data/barrios.geojson') as json_data:\n",
    "    ba_data = json.load(json_data)\n",
    "\n",
    "map_ba1.choropleth(\n",
    "    geo_data=ba_data,\n",
    "    data=crime_Ng,\n",
    "    columns=['Neighbourhood', 'Total'],\n",
    "    key_on='feature.properties.BARRIO',\n",
    "    fill_color='RdBu_r', \n",
    "    fill_opacity=0.7, \n",
    "    line_opacity=0.2,\n",
    "    legend_name='Crime Rate Buenos Aires'\n",
    ")\n",
    "\n",
    "\n",
    "# set color scheme for the clusters\n",
    "x = np.arange(num_clusters)\n",
    "ys = [i + x + (i*x)**2 for i in (range(num_clusters))]\n",
    "colors_array = cm.rainbow(np.linspace(0, 1, len(ys)))\n",
    "rainbow = [colors.rgb2hex(i) for i in colors_array]\n",
    "\n",
    "# add markers to the map\n",
    "markers_colors = []\n",
    "for lat, lon, poi, cluster in zip(ba_df['lat'], ba_df['lng'], ba_df['Neighbourhood'], ba_df['Labels']):\n",
    "    label = folium.Popup(str(poi) + ' Cluster ' + str(cluster), parse_html=True)\n",
    "    folium.CircleMarker(\n",
    "        [lat, lon],\n",
    "        radius=5,\n",
    "        popup=label,\n",
    "        color=rainbow[cluster-1],\n",
    "        fill=True,\n",
    "        fill_color=rainbow[cluster-1],\n",
    "        fill_opacity=0.7).add_to(map_ba1)\n",
    "       \n",
    "\n",
    "\n",
    "map_ba1"
   ]
  },
  {
   "cell_type": "markdown",
   "metadata": {},
   "source": [
    "## Discussion"
   ]
  },
  {
   "cell_type": "markdown",
   "metadata": {},
   "source": [
    "##### One of the aspects that stand out the most is that the average rent in Buenos Aires increased 24% the las year, one of the main reason is the financial situation in Argentina where inflation is one of the highest in the world.\n",
    "\n",
    "##### Most of the crimes were committed between 5 to 10 pm. so the law enforcement institutions should place more platrols  at this hours in the most dangerous neighborhoods.\n",
    "\n",
    "##### More variables can be used like public transportation, job index, or more specific matters depending on the person necessities, there are several neighborhood that have similar characteristic to Chacarita and those can be contemplated to move.\n",
    "\n",
    "##### The rent data is a bit ambiguous because the majority of the rent required advance deposits, so the prices are a bit higher."
   ]
  },
  {
   "cell_type": "markdown",
   "metadata": {},
   "source": [
    "## Conclusion "
   ]
  },
  {
   "cell_type": "markdown",
   "metadata": {},
   "source": [
    "##### Data Analysis is a great tool in this case we could detected which are the best neighborhood to move, depending on the variables to analyze. It's important that government institutions  apply these techniques to attack problems they have in their communities like insecurity, traffic, public transportation among others.\n",
    "\n",
    "##### Also the information should be public in this case to make decision about which neighborhoods the bes to live in or where a business can be started."
   ]
  },
  {
   "cell_type": "code",
   "execution_count": null,
   "metadata": {},
   "outputs": [],
   "source": []
  }
 ],
 "metadata": {
  "celltoolbar": "Tags",
  "kernelspec": {
   "display_name": "Python 3",
   "language": "python",
   "name": "python3"
  },
  "language_info": {
   "codemirror_mode": {
    "name": "ipython",
    "version": 3
   },
   "file_extension": ".py",
   "mimetype": "text/x-python",
   "name": "python",
   "nbconvert_exporter": "python",
   "pygments_lexer": "ipython3",
   "version": "3.7.1"
  }
 },
 "nbformat": 4,
 "nbformat_minor": 2
}
